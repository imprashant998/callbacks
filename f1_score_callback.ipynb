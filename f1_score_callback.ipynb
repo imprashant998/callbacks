{
 "cells": [
  {
   "cell_type": "code",
   "execution_count": null,
   "metadata": {},
   "outputs": [],
   "source": [
    "class F1ScoreCB(tf.keras.callbacks.Callback):\n",
    "    def __init__(self, train_data, test_data):\n",
    "        super().__init__()\n",
    "        self.train_data = train_data\n",
    "        self.test_data = test_data\n",
    "        self.history = {}\n",
    "        self.history['val_f1_score'] = []\n",
    "  \n",
    "    def on_epoch_end(self, epochs, logs = {}):\n",
    "        train_preds = np.argmax(self.model.predict(self.train_data[0]), axis = -1)\n",
    "        train_f1_score = f1_score(self.train_data[1], train_preds, average='micro')\n",
    "        train_f1_score = np.round(train_f1_score, 4)\n",
    "\n",
    "        test_preds = np.argmax(self.model.predict(self.test_data[0]), axis = -1)\n",
    "        test_f1_score = f1_score(self.test_data[1], test_preds, average='micro')\n",
    "        test_f1_score = np.round(test_f1_score, 4)\n",
    "        self.history['val_f1_score'].append(test_f1_score)\n",
    "\n",
    "        print(f\" - f1_score: {train_f1_score} - val_f1_score: {test_f1_score}\")\n",
    "\n",
    "        writer1 = tf.summary.create_file_writer(log_dir + '/train_f1_score')\n",
    "        writer2 = tf.summary.create_file_writer(logdir + '/validation_f1_score')\n",
    "        \n",
    "        #writing to tensoboard\n",
    "        with writer1.as_default():\n",
    "            tf.summary.scalar('F1_Score', train_f1_score, step=epochs)\n",
    "        writer1.flush()\n",
    "\n",
    "        with writer2.as_default():\n",
    "            tf.summary.scalar('F1_Score', test_f1_score, step=epochs)\n",
    "        writer2.flush()"
   ]
  }
 ],
 "metadata": {
  "kernelspec": {
   "display_name": "base",
   "language": "python",
   "name": "python3"
  },
  "language_info": {
   "name": "python",
   "version": "3.9.15"
  },
  "orig_nbformat": 4,
  "vscode": {
   "interpreter": {
    "hash": "887a3cd3700fddb9bb02c746128e9a39bbb22b7f0730db9d31831de8c5d5538b"
   }
  }
 },
 "nbformat": 4,
 "nbformat_minor": 2
}
